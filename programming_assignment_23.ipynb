{
 "cells": [
  {
   "cell_type": "code",
   "execution_count": 3,
   "metadata": {},
   "outputs": [
    {
     "name": "stdout",
     "output_type": "stream",
     "text": [
      "True\n",
      "False\n"
     ]
    }
   ],
   "source": [
    "#Q - Question 1\n",
    "'''Create a function that takes a number as an argument and returns True or False depending\n",
    "on whether the number is symmetrical or not. A number is symmetrical when it is the same as\n",
    "its reverse.'''  \n",
    "#Answer:\n",
    "def is_symmetrical(number):\n",
    "    str_number = str(number)\n",
    "    reversed_str = str_number[::-1]\n",
    "    return str_number == reversed_str\n",
    "\n",
    "num1 = 7227\n",
    "num2 = 12367\n",
    "\n",
    "print(is_symmetrical(num1)) \n",
    "print(is_symmetrical(num2))\n"
   ]
  },
  {
   "cell_type": "code",
   "execution_count": 4,
   "metadata": {},
   "outputs": [
    {
     "name": "stdout",
     "output_type": "stream",
     "text": [
      "24\n"
     ]
    }
   ],
   "source": [
    "#Q - Question 2\n",
    "#Given a string of numbers separated by a comma and space, return the product of the numbers.\n",
    "\n",
    "#Answer:\n",
    "def calculate_product(numbers_str):\n",
    "    numbers_list = [int(num) for num in numbers_str.split(', ')]\n",
    "    product = 1\n",
    "    for num in numbers_list:\n",
    "        product *= num\n",
    "    return product\n",
    "\n",
    "numbers_str = \"1, 2, 3, 4\"\n",
    "product = calculate_product(numbers_str)\n",
    "print(product)\n"
   ]
  },
  {
   "cell_type": "code",
   "execution_count": 6,
   "metadata": {},
   "outputs": [
    {
     "name": "stdout",
     "output_type": "stream",
     "text": [
      "9414\n"
     ]
    }
   ],
   "source": [
    "#Q - Question 3\n",
    "#Create a function that squares every digit of a number.\n",
    "#Answer:\n",
    "def square_digits(number):\n",
    "    squared_number = \"\"\n",
    "    for digit in str(number):\n",
    "        squared_digit = str(int(digit) ** 2)\n",
    "        squared_number += squared_digit\n",
    "    return int(squared_number)\n",
    "\n",
    "number = 3212\n",
    "result = square_digits(number)\n",
    "print(result)\n"
   ]
  },
  {
   "cell_type": "code",
   "execution_count": 8,
   "metadata": {},
   "outputs": [
    {
     "name": "stdout",
     "output_type": "stream",
     "text": [
      "[1, 2, 3]\n"
     ]
    }
   ],
   "source": [
    "#Q - Question4 - Create a function that sorts a list and removes all duplicate items from it.\n",
    "#Answer:\n",
    "def sort_and_remove_duplicates(lst):\n",
    "    sorted_list = sorted(lst)\n",
    "    sorted_unique_list = list(set(sorted_list))\n",
    "    return sorted_unique_list\n",
    "\n",
    "my_list = [3,3,3,2,1]\n",
    "result = sort_and_remove_duplicates(my_list)\n",
    "print(result)\n",
    "\n"
   ]
  },
  {
   "cell_type": "code",
   "execution_count": 10,
   "metadata": {},
   "outputs": [
    {
     "name": "stdout",
     "output_type": "stream",
     "text": [
      "3.0\n"
     ]
    }
   ],
   "source": [
    "#Q - Question 5\n",
    "#Create a function that returns the mean of all digits.\n",
    "#Answer:\n",
    "def mean_of_all_digits(number):\n",
    "    digits = [int(digit) for digit in str(number)]\n",
    "    mean = sum(digits)/len(digits)\n",
    "    return mean\n",
    "\n",
    "number = 12345\n",
    "mean = mean_of_all_digits(number)\n",
    "print(mean)"
   ]
  },
  {
   "cell_type": "code",
   "execution_count": null,
   "metadata": {},
   "outputs": [],
   "source": []
  }
 ],
 "metadata": {
  "kernelspec": {
   "display_name": "Python 3.9.6 64-bit",
   "language": "python",
   "name": "python3"
  },
  "language_info": {
   "codemirror_mode": {
    "name": "ipython",
    "version": 3
   },
   "file_extension": ".py",
   "mimetype": "text/x-python",
   "name": "python",
   "nbconvert_exporter": "python",
   "pygments_lexer": "ipython3",
   "version": "3.9.6"
  },
  "orig_nbformat": 4,
  "vscode": {
   "interpreter": {
    "hash": "31f2aee4e71d21fbe5cf8b01ff0e069b9275f58929596ceb00d14d90e3e16cd6"
   }
  }
 },
 "nbformat": 4,
 "nbformat_minor": 2
}
